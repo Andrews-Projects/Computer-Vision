{
 "cells": [
  {
   "cell_type": "code",
   "execution_count": 2,
   "id": "74a7abe9",
   "metadata": {},
   "outputs": [],
   "source": [
    "import cv2 # this is openCV\n",
    "import os\n",
    "import time\n",
    "import uuid"
   ]
  },
  {
   "cell_type": "code",
   "execution_count": 3,
   "id": "099e4f21",
   "metadata": {},
   "outputs": [],
   "source": [
    "IMAGES_PATH = 'Tensorflow/workspace/images/collectedimages'"
   ]
  },
  {
   "cell_type": "code",
   "execution_count": 4,
   "id": "77ff7baf",
   "metadata": {},
   "outputs": [],
   "source": [
    "#Define 5 labels - 5 signs\n",
    "labels = ['hello', 'thanks','yes','no','iloveyou'] #poses\n",
    "number_imgs = 15 # 15 different images to collect"
   ]
  },
  {
   "cell_type": "code",
   "execution_count": null,
   "id": "771e17bc",
   "metadata": {},
   "outputs": [],
   "source": [
    "for label in labels:\n",
    "    # creating directories for each label\n",
    "    !mkdir {'Tensorflow/workspace/images/collectedimages\\\\'+ label}\n",
    "    cap = cv2.VideoCapture(0)\n",
    "    print('collecting images for {}'.format(label))\n",
    "    time.sleep(5)\n",
    "    \n",
    "    #loop throguh the n.o of images to be collected\n",
    "    for imgnum in range(number_imgs):\n",
    "        ret, frame = cap.read()\n",
    "        \n",
    "        #entire image path\n",
    "        imgname = os.path.join(IMAGES_PATH, label,label + '.' + '{}.jpg'.format(str(uuid.uuid1())))\n",
    "        cv2.imwrite(imgname,frame)\n",
    "        cv2.imshow('frame',frame)\n",
    "        time.sleep(2) # sleep for 2 seconds to be able to get into another pose\n",
    "        \n",
    "        #break key if an issue will occur\n",
    "        if cv2.waitkey(1) & 0xFF == ord('q'):\n",
    "            break\n",
    "            cap.release() # release video our video capture"
   ]
  },
  {
   "cell_type": "code",
   "execution_count": null,
   "id": "71f4ad03",
   "metadata": {},
   "outputs": [],
   "source": []
  }
 ],
 "metadata": {
  "kernelspec": {
   "display_name": "Python 3 (ipykernel)",
   "language": "python",
   "name": "python3"
  },
  "language_info": {
   "codemirror_mode": {
    "name": "ipython",
    "version": 3
   },
   "file_extension": ".py",
   "mimetype": "text/x-python",
   "name": "python",
   "nbconvert_exporter": "python",
   "pygments_lexer": "ipython3",
   "version": "3.9.5"
  }
 },
 "nbformat": 4,
 "nbformat_minor": 5
}
